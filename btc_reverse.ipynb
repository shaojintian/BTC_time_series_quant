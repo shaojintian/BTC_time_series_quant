{
 "cells": [
  {
   "cell_type": "code",
   "execution_count": 34,
   "metadata": {},
   "outputs": [
    {
     "name": "stdout",
     "output_type": "stream",
     "text": [
      "['BTCUSDT', 'ETHUSDT', 'BCHUSDT', 'XRPUSDT', 'EOSUSDT', 'LTCUSDT', 'TRXUSDT', 'ETCUSDT', 'LINKUSDT', 'XLMUSDT', 'ADAUSDT', 'XMRUSDT', 'DASHUSDT', 'ZECUSDT', 'XTZUSDT', 'BNBUSDT', 'ATOMUSDT', 'ONTUSDT', 'IOTAUSDT', 'BATUSDT', 'VETUSDT', 'NEOUSDT', 'QTUMUSDT', 'IOSTUSDT', 'THETAUSDT', 'ALGOUSDT', 'ZILUSDT', 'KNCUSDT', 'ZRXUSDT', 'COMPUSDT', 'OMGUSDT', 'DOGEUSDT', 'SXPUSDT', 'KAVAUSDT', 'BANDUSDT', 'RLCUSDT', 'WAVESUSDT', 'MKRUSDT', 'SNXUSDT', 'DOTUSDT', 'DEFIUSDT', 'YFIUSDT', 'BALUSDT', 'CRVUSDT', 'TRBUSDT', 'RUNEUSDT', 'SUSHIUSDT', 'SRMUSDT', 'EGLDUSDT', 'SOLUSDT', 'ICXUSDT', 'STORJUSDT', 'BLZUSDT', 'UNIUSDT', 'AVAXUSDT', 'FTMUSDT', 'HNTUSDT', 'ENJUSDT', 'FLMUSDT', 'TOMOUSDT', 'RENUSDT', 'KSMUSDT', 'NEARUSDT', 'AAVEUSDT', 'FILUSDT', 'RSRUSDT', 'LRCUSDT', 'MATICUSDT', 'OCEANUSDT', 'CVCUSDT', 'BELUSDT', 'CTKUSDT', 'AXSUSDT', 'ALPHAUSDT', 'ZENUSDT', 'SKLUSDT', 'GRTUSDT', '1INCHUSDT', 'CHZUSDT', 'SANDUSDT', 'ANKRUSDT', 'BTSUSDT', 'LITUSDT', 'UNFIUSDT', 'REEFUSDT', 'RVNUSDT', 'SFPUSDT', 'XEMUSDT', 'BTCSTUSDT', 'COTIUSDT', 'CHRUSDT', 'MANAUSDT', 'ALICEUSDT', 'HBARUSDT', 'ONEUSDT', 'LINAUSDT', 'STMXUSDT', 'DENTUSDT', 'CELRUSDT', 'HOTUSDT', 'MTLUSDT', 'OGNUSDT', 'NKNUSDT', 'SCUSDT', 'DGBUSDT', '1000SHIBUSDT', 'BAKEUSDT', 'GTCUSDT', 'BTCDOMUSDT', 'IOTXUSDT', 'AUDIOUSDT', 'RAYUSDT', 'C98USDT', 'MASKUSDT', 'ATAUSDT', 'DYDXUSDT', '1000XECUSDT', 'GALAUSDT', 'CELOUSDT', 'ARUSDT', 'KLAYUSDT', 'ARPAUSDT', 'CTSIUSDT', 'LPTUSDT', 'ENSUSDT', 'PEOPLEUSDT', 'ANTUSDT', 'ROSEUSDT', 'DUSKUSDT', 'FLOWUSDT', 'IMXUSDT', 'API3USDT', 'GMTUSDT', 'APEUSDT', 'WOOUSDT', 'FTTUSDT', 'JASMYUSDT', 'DARUSDT', 'GALUSDT', 'OPUSDT', 'INJUSDT', 'STGUSDT', 'FOOTBALLUSDT', 'SPELLUSDT', '1000LUNCUSDT', 'LUNA2USDT', 'LDOUSDT', 'CVXUSDT', 'ICPUSDT', 'APTUSDT', 'QNTUSDT', 'BLUEBIRDUSDT', 'FETUSDT', 'FXSUSDT', 'HOOKUSDT', 'MAGICUSDT', 'TUSDT', 'RNDRUSDT', 'HIGHUSDT', 'MINAUSDT', 'ASTRUSDT', 'AGIXUSDT', 'PHBUSDT', 'GMXUSDT', 'CFXUSDT', 'STXUSDT', 'COCOSUSDT', 'BNXUSDT', 'ACHUSDT', 'SSVUSDT', 'CKBUSDT', 'PERPUSDT', 'TRUUSDT', 'LQTYUSDT', 'USDCUSDT', 'IDUSDT', 'ARBUSDT', 'JOEUSDT', 'TLMUSDT', 'AMBUSDT', 'LEVERUSDT', 'RDNTUSDT', 'HFTUSDT', 'XVSUSDT', 'BLURUSDT', 'EDUUSDT', 'IDEXUSDT', 'SUIUSDT', '1000PEPEUSDT', '1000FLOKIUSDT', 'UMAUSDT', 'RADUSDT', 'KEYUSDT', 'COMBOUSDT', 'NMRUSDT', 'MAVUSDT', 'MDTUSDT', 'XVGUSDT', 'WLDUSDT', 'PENDLEUSDT', 'ARKMUSDT', 'AGLDUSDT', 'YGGUSDT', 'DODOXUSDT', 'BNTUSDT', 'OXTUSDT', 'SEIUSDT', 'CYBERUSDT', 'HIFIUSDT', 'ARKUSDT', 'FRONTUSDT', 'GLMRUSDT', 'BICOUSDT', 'STRAXUSDT', 'LOOMUSDT', 'BIGTIMEUSDT', 'BONDUSDT', 'ORBSUSDT', 'STPTUSDT', 'WAXPUSDT', 'BSVUSDT', 'RIFUSDT', 'POLYXUSDT', 'GASUSDT', 'POWRUSDT', 'SLPUSDT', 'TIAUSDT', 'SNTUSDT', 'CAKEUSDT', 'MEMEUSDT', 'TWTUSDT', 'TOKENUSDT', 'ORDIUSDT', 'STEEMUSDT', 'BADGERUSDT', 'ILVUSDT', 'NTRNUSDT', 'MBLUSDT', 'KASUSDT', 'BEAMXUSDT', '1000BONKUSDT', 'PYTHUSDT', 'SUPERUSDT', 'USTCUSDT', 'ONGUSDT', 'ETHWUSDT', 'JTOUSDT', '1000SATSUSDT', 'AUCTIONUSDT', '1000RATSUSDT', 'ACEUSDT', 'MOVRUSDT', 'NFPUSDT', 'BTCUSDT', 'ETHUSDT', 'AIUSDT', 'XAIUSDT', 'WIFUSDT', 'MANTAUSDT', 'ONDOUSDT', 'LSKUSDT', 'ALTUSDT', 'JUPUSDT', 'ZETAUSDT', 'RONINUSDT', 'DYMUSDT', 'OMUSDT', 'PIXELUSDT', 'STRKUSDT', 'MAVIAUSDT', 'GLMUSDT', 'PORTALUSDT', 'TONUSDT', 'AXLUSDT', 'MYROUSDT', 'METISUSDT', 'AEVOUSDT', 'VANRYUSDT', 'BOMEUSDT', 'ETHFIUSDT', 'BTCUSDT', 'ETHUSDT', 'ENAUSDT', 'WUSDT', 'TNSRUSDT', 'SAGAUSDT', 'TAOUSDT', 'OMNIUSDT', 'REZUSDT']\n"
     ]
    }
   ],
   "source": [
    "import requests\n",
    "from datetime import date,datetime\n",
    "import time\n",
    "import pandas as pd\n",
    "import numpy as np\n",
    "import matplotlib.pyplot as plt\n",
    "import requests, zipfile, io\n",
    "\n",
    "## 当前交易对\n",
    "Info = requests.get('https://fapi.binance.com/fapi/v1/exchangeInfo')\n",
    "symbols = [s['symbol'] for s in Info.json()['symbols']]\n",
    "symbols = list(filter(lambda x: x[-4:] == 'USDT', [s.split('_')[0] for s in symbols]))\n",
    "print(symbols)\n",
    "\n",
    "#获取任意周期K线的函数\n",
    "def GetKlines(symbol='BTCUSDT',start='2020-8-10',end='2021-8-10',period='1h',base='fapi',v = 'v1'):\n",
    "    Klines = []\n",
    "    start_time = int(time.mktime(datetime.strptime(start, \"%Y-%m-%d\").timetuple()))*1000 \n",
    "    end_time =  min(int(time.mktime(datetime.strptime(end, \"%Y-%m-%d\").timetuple()))*1000,time.time()*1000)\n",
    "    intervel_map = {'m':60*1000,'h':60*60*1000,'d':24*60*60*1000}\n",
    "    while start_time < end_time:\n",
    "        mid_time = start_time+1000*int(period[:-1])*intervel_map[period[-1]]\n",
    "        url = 'https://'+base+'.binance.com/'+base+'/'+v+'/klines?symbol=%s&interval=%s&startTime=%s&endTime=%s&limit=1000'%(symbol,period,start_time,mid_time)\n",
    "        res = requests.get(url)\n",
    "        res_list = res.json()\n",
    "        if type(res_list) == list and len(res_list) > 0:\n",
    "            start_time = res_list[-1][0]+int(period[:-1])*intervel_map[period[-1]]\n",
    "            Klines += res_list\n",
    "        if type(res_list) == list and len(res_list) == 0:\n",
    "            start_time = start_time+1000*int(period[:-1])*intervel_map[period[-1]]\n",
    "    df = pd.DataFrame(Klines,columns=['time','open','high','low','close','amount','end_time','volume','count','buy_amount','buy_volume','null']).astype('float')\n",
    "    df.index = pd.to_datetime(df.time,unit='ms')\n",
    "    return df\n",
    "\n",
    "\n"
   ]
  },
  {
   "cell_type": "code",
   "execution_count": 35,
   "metadata": {},
   "outputs": [
    {
     "name": "stdout",
     "output_type": "stream",
     "text": [
      "{}\n"
     ]
    }
   ],
   "source": [
    "from datetime import datetime, timedelta\n",
    "\n",
    "# 获取当前时间\n",
    "now = datetime.now()\n",
    "\n",
    "# 计算5小时前的时间\n",
    "start_date = (now - timedelta(hours=5)).strftime(\"%Y-%m-%d\")\n",
    "\n",
    "end_date = now.strftime(\"%Y-%m-%d\")\n",
    "\n",
    "period = '30m'\n",
    "df_dict = {}\n",
    "for symbol in symbols:\n",
    "    df_s = GetKlines(symbol=symbol,start=start_date,end=end_date,period=period,base='fapi',v='v1')\n",
    "    if not df_s.empty:\n",
    "        df_dict[symbol] = df_s\n",
    "\n",
    "print(df_dict)"
   ]
  },
  {
   "cell_type": "code",
   "execution_count": 32,
   "metadata": {},
   "outputs": [
    {
     "name": "stderr",
     "output_type": "stream",
     "text": [
      "/var/folders/rz/3svljnys3slcc2vxdvmj0kx00000gn/T/ipykernel_35749/1831708249.py:1: FutureWarning: 'm' is deprecated and will be removed in a future version, please use 'ME' instead.\n",
      "  df_close = pd.DataFrame(index=pd.date_range(start=start_date, end=end_date, freq=period),columns=df_dict.keys())\n",
      "/var/folders/rz/3svljnys3slcc2vxdvmj0kx00000gn/T/ipykernel_35749/1831708249.py:2: FutureWarning: 'm' is deprecated and will be removed in a future version, please use 'ME' instead.\n",
      "  df_open = pd.DataFrame(index=pd.date_range(start=start_date, end=end_date, freq=period),columns=df_dict.keys())\n",
      "/var/folders/rz/3svljnys3slcc2vxdvmj0kx00000gn/T/ipykernel_35749/1831708249.py:3: FutureWarning: 'm' is deprecated and will be removed in a future version, please use 'ME' instead.\n",
      "  df_volume = pd.DataFrame(index=pd.date_range(start=start_date, end=end_date, freq=period),columns=df_dict.keys())\n",
      "/var/folders/rz/3svljnys3slcc2vxdvmj0kx00000gn/T/ipykernel_35749/1831708249.py:4: FutureWarning: 'm' is deprecated and will be removed in a future version, please use 'ME' instead.\n",
      "  df_buy_ratio = pd.DataFrame(index=pd.date_range(start=start_date, end=end_date, freq=period),columns=df_dict.keys())\n",
      "/var/folders/rz/3svljnys3slcc2vxdvmj0kx00000gn/T/ipykernel_35749/1831708249.py:5: FutureWarning: 'm' is deprecated and will be removed in a future version, please use 'ME' instead.\n",
      "  df_count = pd.DataFrame(index=pd.date_range(start=start_date, end=end_date, freq=period),columns=df_dict.keys())\n"
     ]
    }
   ],
   "source": [
    "df_close = pd.DataFrame(index=pd.date_range(start=start_date, end=end_date, freq=period),columns=df_dict.keys())\n",
    "df_open = pd.DataFrame(index=pd.date_range(start=start_date, end=end_date, freq=period),columns=df_dict.keys())\n",
    "df_volume = pd.DataFrame(index=pd.date_range(start=start_date, end=end_date, freq=period),columns=df_dict.keys())\n",
    "df_buy_ratio = pd.DataFrame(index=pd.date_range(start=start_date, end=end_date, freq=period),columns=df_dict.keys())\n",
    "df_count = pd.DataFrame(index=pd.date_range(start=start_date, end=end_date, freq=period),columns=df_dict.keys())\n",
    "for symbol in df_dict.keys():\n",
    "    df_s = df_dict[symbol]\n",
    "    df_close[symbol] = df_s.close\n",
    "    df_open[symbol] = df_s.open\n",
    "    df_volume[symbol] = df_s.volume\n",
    "    df_count[symbol] = df_s['count']\n",
    "    df_buy_ratio[symbol] = df_s.buy_amount/df_s.amount\n",
    "df_close = df_close.dropna(how='all')\n",
    "df_open = df_open.dropna(how='all')\n",
    "df_volume = df_volume.dropna(how='all')\n",
    "df_count = df_count.dropna(how='all')\n",
    "df_buy_ratio = df_buy_ratio.dropna(how='all')\n"
   ]
  },
  {
   "cell_type": "code",
   "execution_count": 33,
   "metadata": {},
   "outputs": [
    {
     "name": "stderr",
     "output_type": "stream",
     "text": [
      "/var/folders/rz/3svljnys3slcc2vxdvmj0kx00000gn/T/ipykernel_35749/1847442662.py:1: FutureWarning: DataFrame.fillna with 'method' is deprecated and will raise in a future version. Use obj.ffill() or obj.bfill() instead.\n",
      "  df_norm = df_close/df_close.fillna(method='bfill').iloc[0] #归一化\n"
     ]
    },
    {
     "ename": "IndexError",
     "evalue": "single positional indexer is out-of-bounds",
     "output_type": "error",
     "traceback": [
      "\u001b[0;31m---------------------------------------------------------------------------\u001b[0m",
      "\u001b[0;31mIndexError\u001b[0m                                Traceback (most recent call last)",
      "Cell \u001b[0;32mIn[33], line 1\u001b[0m\n\u001b[0;32m----> 1\u001b[0m df_norm \u001b[38;5;241m=\u001b[39m df_close\u001b[38;5;241m/\u001b[39m\u001b[43mdf_close\u001b[49m\u001b[38;5;241;43m.\u001b[39;49m\u001b[43mfillna\u001b[49m\u001b[43m(\u001b[49m\u001b[43mmethod\u001b[49m\u001b[38;5;241;43m=\u001b[39;49m\u001b[38;5;124;43m'\u001b[39;49m\u001b[38;5;124;43mbfill\u001b[39;49m\u001b[38;5;124;43m'\u001b[39;49m\u001b[43m)\u001b[49m\u001b[38;5;241;43m.\u001b[39;49m\u001b[43miloc\u001b[49m\u001b[43m[\u001b[49m\u001b[38;5;241;43m0\u001b[39;49m\u001b[43m]\u001b[49m \u001b[38;5;66;03m#归一化\u001b[39;00m\n\u001b[1;32m      2\u001b[0m df_norm\u001b[38;5;241m.\u001b[39mmean(axis\u001b[38;5;241m=\u001b[39m\u001b[38;5;241m1\u001b[39m)\u001b[38;5;241m.\u001b[39mplot(figsize\u001b[38;5;241m=\u001b[39m(\u001b[38;5;241m15\u001b[39m,\u001b[38;5;241m6\u001b[39m),grid\u001b[38;5;241m=\u001b[39m\u001b[38;5;28;01mTrue\u001b[39;00m);\n\u001b[1;32m      3\u001b[0m \u001b[38;5;66;03m#最终指数收益图\u001b[39;00m\n",
      "File \u001b[0;32m~/Downloads/BTC_time_series_quant/.venv/lib/python3.10/site-packages/pandas/core/indexing.py:1191\u001b[0m, in \u001b[0;36m_LocationIndexer.__getitem__\u001b[0;34m(self, key)\u001b[0m\n\u001b[1;32m   1189\u001b[0m maybe_callable \u001b[38;5;241m=\u001b[39m com\u001b[38;5;241m.\u001b[39mapply_if_callable(key, \u001b[38;5;28mself\u001b[39m\u001b[38;5;241m.\u001b[39mobj)\n\u001b[1;32m   1190\u001b[0m maybe_callable \u001b[38;5;241m=\u001b[39m \u001b[38;5;28mself\u001b[39m\u001b[38;5;241m.\u001b[39m_check_deprecated_callable_usage(key, maybe_callable)\n\u001b[0;32m-> 1191\u001b[0m \u001b[38;5;28;01mreturn\u001b[39;00m \u001b[38;5;28;43mself\u001b[39;49m\u001b[38;5;241;43m.\u001b[39;49m\u001b[43m_getitem_axis\u001b[49m\u001b[43m(\u001b[49m\u001b[43mmaybe_callable\u001b[49m\u001b[43m,\u001b[49m\u001b[43m \u001b[49m\u001b[43maxis\u001b[49m\u001b[38;5;241;43m=\u001b[39;49m\u001b[43maxis\u001b[49m\u001b[43m)\u001b[49m\n",
      "File \u001b[0;32m~/Downloads/BTC_time_series_quant/.venv/lib/python3.10/site-packages/pandas/core/indexing.py:1752\u001b[0m, in \u001b[0;36m_iLocIndexer._getitem_axis\u001b[0;34m(self, key, axis)\u001b[0m\n\u001b[1;32m   1749\u001b[0m     \u001b[38;5;28;01mraise\u001b[39;00m \u001b[38;5;167;01mTypeError\u001b[39;00m(\u001b[38;5;124m\"\u001b[39m\u001b[38;5;124mCannot index by location index with a non-integer key\u001b[39m\u001b[38;5;124m\"\u001b[39m)\n\u001b[1;32m   1751\u001b[0m \u001b[38;5;66;03m# validate the location\u001b[39;00m\n\u001b[0;32m-> 1752\u001b[0m \u001b[38;5;28;43mself\u001b[39;49m\u001b[38;5;241;43m.\u001b[39;49m\u001b[43m_validate_integer\u001b[49m\u001b[43m(\u001b[49m\u001b[43mkey\u001b[49m\u001b[43m,\u001b[49m\u001b[43m \u001b[49m\u001b[43maxis\u001b[49m\u001b[43m)\u001b[49m\n\u001b[1;32m   1754\u001b[0m \u001b[38;5;28;01mreturn\u001b[39;00m \u001b[38;5;28mself\u001b[39m\u001b[38;5;241m.\u001b[39mobj\u001b[38;5;241m.\u001b[39m_ixs(key, axis\u001b[38;5;241m=\u001b[39maxis)\n",
      "File \u001b[0;32m~/Downloads/BTC_time_series_quant/.venv/lib/python3.10/site-packages/pandas/core/indexing.py:1685\u001b[0m, in \u001b[0;36m_iLocIndexer._validate_integer\u001b[0;34m(self, key, axis)\u001b[0m\n\u001b[1;32m   1683\u001b[0m len_axis \u001b[38;5;241m=\u001b[39m \u001b[38;5;28mlen\u001b[39m(\u001b[38;5;28mself\u001b[39m\u001b[38;5;241m.\u001b[39mobj\u001b[38;5;241m.\u001b[39m_get_axis(axis))\n\u001b[1;32m   1684\u001b[0m \u001b[38;5;28;01mif\u001b[39;00m key \u001b[38;5;241m>\u001b[39m\u001b[38;5;241m=\u001b[39m len_axis \u001b[38;5;129;01mor\u001b[39;00m key \u001b[38;5;241m<\u001b[39m \u001b[38;5;241m-\u001b[39mlen_axis:\n\u001b[0;32m-> 1685\u001b[0m     \u001b[38;5;28;01mraise\u001b[39;00m \u001b[38;5;167;01mIndexError\u001b[39;00m(\u001b[38;5;124m\"\u001b[39m\u001b[38;5;124msingle positional indexer is out-of-bounds\u001b[39m\u001b[38;5;124m\"\u001b[39m)\n",
      "\u001b[0;31mIndexError\u001b[0m: single positional indexer is out-of-bounds"
     ]
    }
   ],
   "source": [
    "df_norm = df_close/df_close.fillna(method='bfill').iloc[0] #归一化\n",
    "df_norm.mean(axis=1).plot(figsize=(15,6),grid=True);\n",
    "#最终指数收益图\n"
   ]
  },
  {
   "cell_type": "code",
   "execution_count": 10,
   "metadata": {},
   "outputs": [],
   "source": [
    "#回测引擎\n",
    "class Exchange:\n",
    "    \n",
    "    def __init__(self, trade_symbols, fee=0.0004, initial_balance=10000):\n",
    "        self.initial_balance = initial_balance #初始的资产\n",
    "        self.fee = fee\n",
    "        self.trade_symbols = trade_symbols\n",
    "        self.account = {'USDT':{'realised_profit':0, 'unrealised_profit':0, 'total':initial_balance, 'fee':0, 'leverage':0, 'hold':0}}\n",
    "        for symbol in trade_symbols:\n",
    "            self.account[symbol] = {'amount':0, 'hold_price':0, 'value':0, 'price':0, 'realised_profit':0,'unrealised_profit':0,'fee':0}\n",
    "            \n",
    "    def Trade(self, symbol, direction, price, amount):\n",
    "        \n",
    "        cover_amount = 0 if direction*self.account[symbol]['amount'] >=0 else min(abs(self.account[symbol]['amount']), amount)\n",
    "        open_amount = amount - cover_amount\n",
    "        self.account['USDT']['realised_profit'] -= price*amount*self.fee #扣除手续费\n",
    "        self.account['USDT']['fee'] += price*amount*self.fee\n",
    "        self.account[symbol]['fee'] += price*amount*self.fee\n",
    "\n",
    "        if cover_amount > 0: #先平仓\n",
    "            self.account['USDT']['realised_profit'] += -direction*(price - self.account[symbol]['hold_price'])*cover_amount  #利润\n",
    "            self.account[symbol]['realised_profit'] += -direction*(price - self.account[symbol]['hold_price'])*cover_amount\n",
    "            \n",
    "            self.account[symbol]['amount'] -= -direction*cover_amount\n",
    "            self.account[symbol]['hold_price'] = 0 if self.account[symbol]['amount'] == 0 else self.account[symbol]['hold_price']\n",
    "            \n",
    "        if open_amount > 0:\n",
    "            total_cost = self.account[symbol]['hold_price']*direction*self.account[symbol]['amount'] + price*open_amount\n",
    "            total_amount = direction*self.account[symbol]['amount']+open_amount\n",
    "            \n",
    "            self.account[symbol]['hold_price'] = total_cost/total_amount\n",
    "            self.account[symbol]['amount'] += direction*open_amount\n",
    "                    \n",
    "    \n",
    "    def Buy(self, symbol, price, amount):\n",
    "        self.Trade(symbol, 1, price, amount)\n",
    "        \n",
    "    def Sell(self, symbol, price, amount):\n",
    "        self.Trade(symbol, -1, price, amount)\n",
    "        \n",
    "    def Update(self, close_price): #对资产进行更新\n",
    "        self.account['USDT']['unrealised_profit'] = 0\n",
    "        self.account['USDT']['hold'] = 0\n",
    "        for symbol in self.trade_symbols:\n",
    "            if not np.isnan(close_price[symbol]):\n",
    "                self.account[symbol]['unrealised_profit'] = (close_price[symbol] - self.account[symbol]['hold_price'])*self.account[symbol]['amount']\n",
    "                self.account[symbol]['price'] = close_price[symbol]\n",
    "                self.account[symbol]['value'] = abs(self.account[symbol]['amount'])*close_price[symbol]\n",
    "                self.account['USDT']['hold'] += self.account[symbol]['value']\n",
    "                self.account['USDT']['unrealised_profit'] += self.account[symbol]['unrealised_profit']\n",
    "        self.account['USDT']['total'] = round(self.account['USDT']['realised_profit'] + self.initial_balance + self.account['USDT']['unrealised_profit'],6)\n",
    "        self.account['USDT']['leverage'] = round(self.account['USDT']['hold']/self.account['USDT']['total'],3)\n",
    "\n",
    "#测试因子的函数\n",
    "def Test(factor, symbols, period=1, N=40, value=300):\n",
    "    e = Exchange(symbols, fee=0.0002, initial_balance=10000)\n",
    "    res_list = []\n",
    "    index_list = []\n",
    "    factor = factor.dropna(how='all')\n",
    "    for idx, row in factor.iterrows():\n",
    "        if idx.hour % period == 0:\n",
    "            buy_symbols =  row.sort_values().dropna()[0:N].index\n",
    "            sell_symbols = row.sort_values().dropna()[-N:].index\n",
    "            prices = df_close.loc[idx,]\n",
    "            index_list.append(idx)\n",
    "            for symbol in symbols:\n",
    "                if symbol in buy_symbols and e.account[symbol]['amount'] <= 0:\n",
    "                    e.Buy(symbol,prices[symbol],value/prices[symbol]-e.account[symbol]['amount'])\n",
    "                if symbol in sell_symbols and e.account[symbol]['amount'] >= 0:\n",
    "                    e.Sell(symbol,prices[symbol], value/prices[symbol]+e.account[symbol]['amount'])\n",
    "            e.Update(prices)\n",
    "            res_list.append([e.account['USDT']['total'],e.account['USDT']['hold']])\n",
    "    return pd.DataFrame(data=res_list, columns=['total','hold'],index = index_list)\n"
   ]
  },
  {
   "cell_type": "code",
   "execution_count": null,
   "metadata": {},
   "outputs": [],
   "source": []
  }
 ],
 "metadata": {
  "kernelspec": {
   "display_name": ".venv",
   "language": "python",
   "name": "python3"
  },
  "language_info": {
   "codemirror_mode": {
    "name": "ipython",
    "version": 3
   },
   "file_extension": ".py",
   "mimetype": "text/x-python",
   "name": "python",
   "nbconvert_exporter": "python",
   "pygments_lexer": "ipython3",
   "version": "3.10.10"
  }
 },
 "nbformat": 4,
 "nbformat_minor": 2
}
